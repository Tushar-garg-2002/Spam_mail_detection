{
  "nbformat": 4,
  "nbformat_minor": 0,
  "metadata": {
    "colab": {
      "provenance": []
    },
    "kernelspec": {
      "name": "python3",
      "display_name": "Python 3"
    },
    "language_info": {
      "name": "python"
    }
  },
  "cells": [
    {
      "cell_type": "code",
      "execution_count": 7,
      "metadata": {
        "id": "66LgB8uTJMX-"
      },
      "outputs": [],
      "source": [
        "import numpy as np\n",
        "import pandas as pd\n",
        "#divide data set into two parts train and test\n",
        "from sklearn.model_selection import train_test_split \n",
        "#convert text to numerical values to understand it properly\n",
        "from sklearn.feature_extraction.text import TfidfVectorizer \n",
        "#importing logistic regression function cause its best for binary sytem\n",
        "from sklearn.linear_model import LogisticRegression \n",
        "#to find score using test data\n",
        "from sklearn.metrics import accuracy_score "
      ]
    },
    {
      "cell_type": "code",
      "source": [
        "#data collection\n",
        "#structuring the data\n",
        "raw = pd.read_csv('/content/mail_data.csv')\n",
        "data = raw.where((pd.notnull(raw)),'')\n",
        "\n",
        "#labelling \n",
        "data.loc[data['Category'] == 'spam','Category' ] = 0\n",
        "data.loc[data['Category'] == 'ham','Category' ] = 1"
      ],
      "metadata": {
        "id": "YPcrFwiyK9Zj"
      },
      "execution_count": 2,
      "outputs": []
    },
    {
      "cell_type": "code",
      "source": [
        "#initialising value\n",
        "X = data['Message']\n",
        "Y = data['Category']"
      ],
      "metadata": {
        "id": "WCO-eFChMl2A"
      },
      "execution_count": 6,
      "outputs": []
    },
    {
      "cell_type": "code",
      "source": [
        "#splitting the data set\n",
        "# use tran_test_ split\n",
        "# we assign it the set, then the percentage of test data, then we provide it with a seed using random state\n",
        "\n",
        "x_train,x_test,y_train,y_test = train_test_split(X,Y, test_size=0.2,random_state=4)"
      ],
      "metadata": {
        "id": "sQdhuQZsNZCU"
      },
      "execution_count": 5,
      "outputs": []
    },
    {
      "cell_type": "code",
      "source": [
        "#feature extraction == convert text to features\n",
        "# we do it usign TfidfVectoriser\n",
        "features = TfidfVectorizer(min_df = 1,stop_words = 'english', lowercase='true')\n",
        "x_train_feature = features.fit_transform(x_train);\n",
        "x_test_feature = features.transform(x_test);\n",
        "y_train = y_train.astype('int')\n",
        "y_test = y_test.astype('int')"
      ],
      "metadata": {
        "id": "5iAqFpaEOLW8"
      },
      "execution_count": 8,
      "outputs": []
    },
    {
      "cell_type": "code",
      "source": [
        "#model\n",
        "model = LogisticRegression()\n",
        "model.fit(x_train_feature,y_train)\n"
      ],
      "metadata": {
        "colab": {
          "base_uri": "https://localhost:8080/"
        },
        "id": "GwxDCykeUTgV",
        "outputId": "218fc9f1-3a79-4ad3-fa38-d31f4cfff989"
      },
      "execution_count": 11,
      "outputs": [
        {
          "output_type": "execute_result",
          "data": {
            "text/plain": [
              "LogisticRegression()"
            ]
          },
          "metadata": {},
          "execution_count": 11
        }
      ]
    },
    {
      "cell_type": "code",
      "source": [
        "#finding accuracy\n",
        "pred = model.predict(x_train_feature)\n",
        "acc = accuracy_score(y_train,pred)\n",
        "print(acc)"
      ],
      "metadata": {
        "colab": {
          "base_uri": "https://localhost:8080/"
        },
        "id": "o8AR2BzfUbxD",
        "outputId": "f991b267-bb90-439d-efa7-46f15474d88f"
      },
      "execution_count": 12,
      "outputs": [
        {
          "output_type": "stream",
          "name": "stdout",
          "text": [
            "0.9685887368184878\n"
          ]
        }
      ]
    },
    {
      "cell_type": "code",
      "source": [
        "#testing\n",
        "test = model.predict(x_test_feature)\n",
        "accuracy = accuracy_score(y_test,test)\n",
        "print(accuracy)\n"
      ],
      "metadata": {
        "colab": {
          "base_uri": "https://localhost:8080/"
        },
        "id": "RS6Mg3zUVCXQ",
        "outputId": "550f7946-738c-4e53-947a-77d44a7a8b0e"
      },
      "execution_count": 13,
      "outputs": [
        {
          "output_type": "stream",
          "name": "stdout",
          "text": [
            "0.9506726457399103\n"
          ]
        }
      ]
    },
    {
      "cell_type": "code",
      "source": [
        "input = [\"free free free, enroll now\"]\n",
        "feature = features.transform(input)\n",
        "\n",
        "predict = model.predict(feature)\n",
        "if predict[0] == 1:\n",
        "  print(\"Ham\")\n",
        "else:\n",
        "    print(\"spam\")\n"
      ],
      "metadata": {
        "colab": {
          "base_uri": "https://localhost:8080/"
        },
        "id": "6ImQVzdxVU-V",
        "outputId": "baea5038-0d14-48c6-804a-290d0311263e"
      },
      "execution_count": 16,
      "outputs": [
        {
          "output_type": "stream",
          "name": "stdout",
          "text": [
            "spam\n"
          ]
        }
      ]
    },
    {
      "cell_type": "code",
      "source": [],
      "metadata": {
        "id": "ed09WuPVbPDB"
      },
      "execution_count": null,
      "outputs": []
    }
  ]
}